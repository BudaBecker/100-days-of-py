{
 "cells": [
  {
   "cell_type": "markdown",
   "metadata": {},
   "source": [
    "#Day 2:\n",
    "Data Types, Numbers, Operations, Type Conversion, f-Strings."
   ]
  },
  {
   "cell_type": "markdown",
   "metadata": {},
   "source": [
    "Data Types:\n",
    "Learn about the primitive data types in python.\n",
    "\n",
    "1. Strings\n",
    "2. Integers\n",
    "3. Floats\n",
    "4. Booleans"
   ]
  },
  {
   "cell_type": "code",
   "execution_count": 7,
   "metadata": {},
   "outputs": [
    {
     "name": "stdout",
     "output_type": "stream",
     "text": [
      "o\n",
      "444\n",
      "3.1415\n",
      "True\n",
      "False\n"
     ]
    }
   ],
   "source": [
    "string = \"Hello\"\n",
    "print(string[-1])\n",
    "\n",
    "print(123 + 321)\n",
    "\n",
    "print(3.1415)\n",
    "\n",
    "print(True)\n",
    "print(False)"
   ]
  },
  {
   "cell_type": "markdown",
   "metadata": {},
   "source": [
    "Type Error, Checking and Converton:"
   ]
  },
  {
   "cell_type": "code",
   "execution_count": 14,
   "metadata": {},
   "outputs": [
    {
     "name": "stdout",
     "output_type": "stream",
     "text": [
      "4\n",
      "<class 'str'>\n",
      "<class 'int'>\n",
      "<class 'bool'>\n",
      "<class 'float'>\n"
     ]
    }
   ],
   "source": [
    "print(len(str(1223)))\n",
    "print(type(\"Hello\"))\n",
    "print(type(123))\n",
    "print(type(True))\n",
    "print(type(3.1415))"
   ]
  },
  {
   "cell_type": "markdown",
   "metadata": {},
   "source": [
    "Mathematical Operations:"
   ]
  },
  {
   "cell_type": "code",
   "execution_count": 23,
   "metadata": {},
   "outputs": [
    {
     "name": "stdout",
     "output_type": "stream",
     "text": [
      "579\n",
      "4\n",
      "6\n",
      "1.2\n",
      "1\n",
      "16\n",
      "7.0\n",
      "3.14\n"
     ]
    }
   ],
   "source": [
    "print(123 + 456)\n",
    "print(7 - 3)\n",
    "print(3 * 2)\n",
    "print(6 / 5)\n",
    "print(6 // 5)\n",
    "print(2 ** 4)\n",
    "print(3*3+3/3-3)\n",
    "print(round(3.1415, 2))\n"
   ]
  },
  {
   "cell_type": "code",
   "execution_count": 24,
   "metadata": {},
   "outputs": [
    {
     "name": "stdout",
     "output_type": "stream",
     "text": [
      "string, 123, True\n"
     ]
    }
   ],
   "source": [
    "string = \"string\"\n",
    "integer = 123\n",
    "boolean = True\n",
    "print(f\"{string}, {integer}, {boolean}\")"
   ]
  },
  {
   "cell_type": "code",
   "execution_count": 26,
   "metadata": {},
   "outputs": [
    {
     "name": "stdout",
     "output_type": "stream",
     "text": [
      "Welcome to the tip calculator!\n",
      "Each person should pay: $19.93\n"
     ]
    }
   ],
   "source": [
    "#Final project os the day\n",
    "\n",
    "print(\"Welcome to the tip calculator!\")\n",
    "bill = float(input(\"What was the total bill? $\"))\n",
    "tip = int(input(\"How much tip would you like to give? $\"))\n",
    "number_of_ppl = int(input(\"How many people to split the bill? \"))\n",
    "total = (bill+(bill*tip)/100)/number_of_ppl\n",
    "print(f\"Each person should pay: ${round(total, 2)}\")"
   ]
  }
 ],
 "metadata": {
  "kernelspec": {
   "display_name": "Python 3",
   "language": "python",
   "name": "python3"
  },
  "language_info": {
   "codemirror_mode": {
    "name": "ipython",
    "version": 3
   },
   "file_extension": ".py",
   "mimetype": "text/x-python",
   "name": "python",
   "nbconvert_exporter": "python",
   "pygments_lexer": "ipython3",
   "version": "3.13.2"
  }
 },
 "nbformat": 4,
 "nbformat_minor": 2
}
