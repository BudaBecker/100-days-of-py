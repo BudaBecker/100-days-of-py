{
 "cells": [
  {
   "cell_type": "markdown",
   "metadata": {},
   "source": [
    "#Day 1 of python:\n",
    "Printing, Commenting, Debuggin, String Manipulation an Variables."
   ]
  },
  {
   "cell_type": "markdown",
   "metadata": {},
   "source": [
    "Printing:\n",
    "Use what you learnt to print out the words \"Hello World!\" with python code.\n",
    "Then click the run button to execute your code."
   ]
  },
  {
   "cell_type": "code",
   "execution_count": 2,
   "metadata": {},
   "outputs": [
    {
     "name": "stdout",
     "output_type": "stream",
     "text": [
      "Hello World!\n"
     ]
    }
   ],
   "source": [
    "print(\"Hello World!\")"
   ]
  },
  {
   "cell_type": "markdown",
   "metadata": {},
   "source": [
    "String Manipulation:\n",
    "Learn to use string concatenation and the new line escape sequence to format strings in python.\n",
    "1. Use \\n to add another line of \"Hello World\".\n",
    "So the resulting output looks like this:\n",
    "\n",
    "Hello World!\n",
    "Hello World!\n",
    "Hello World!"
   ]
  },
  {
   "cell_type": "code",
   "execution_count": 1,
   "metadata": {},
   "outputs": [
    {
     "name": "stdout",
     "output_type": "stream",
     "text": [
      "Hello World!\n",
      "Hello World!\n",
      "Hello World!\n",
      "Hello World!\n"
     ]
    }
   ],
   "source": [
    "print(\"Hello World!\\nHello World!\\nHello World!\")\n",
    "print(\"Hello\" + \" \" + \"World!\")"
   ]
  },
  {
   "cell_type": "markdown",
   "metadata": {},
   "source": [
    "Inputs:\n",
    "Learn to use the python input() function to collect user input and use it within your code."
   ]
  },
  {
   "cell_type": "code",
   "execution_count": null,
   "metadata": {},
   "outputs": [
    {
     "name": "stdout",
     "output_type": "stream",
     "text": [
      "Hello Gabriel!\n"
     ]
    }
   ],
   "source": [
    "# Comment ('crtl + /' on line)\n",
    "print(\"Hello \" + input(\"What is your name?\") + \"!\")"
   ]
  },
  {
   "cell_type": "markdown",
   "metadata": {},
   "source": [
    "Variables:\n",
    "Learn to store values in containers for later use. Variables is a concept in programming that allows us to give a label to a piece of data so that we can refer or reference that data using the chosen variable name. We will see in this lesson how to create variables and how to use the variables to access the contained values."
   ]
  },
  {
   "cell_type": "code",
   "execution_count": null,
   "metadata": {},
   "outputs": [
    {
     "name": "stdout",
     "output_type": "stream",
     "text": [
      "Jack\n",
      "Angela\n",
      "7\n",
      "5\n"
     ]
    }
   ],
   "source": [
    "name = \"Jack\"\n",
    "print(name)\n",
    "name = \"Angela\"\n",
    "print(name)\n",
    "\n",
    "# print(len(input(\"What is your name?\")))\n",
    "\n",
    "username = input(\"type your username: \")\n",
    "lenght = len(username)\n",
    "print(lenght)"
   ]
  },
  {
   "cell_type": "markdown",
   "metadata": {},
   "source": [
    "Band Name Generator Project:\n",
    "1- Create a greeting for your program.\n",
    "2- Ask the user for the city that they grew up in and store it in a variable.\n",
    "3- Ask the user for that name of a pet and store it in a variable.\n",
    "4- Combine the name of the city and pet and show them their band name."
   ]
  },
  {
   "cell_type": "code",
   "execution_count": 14,
   "metadata": {},
   "outputs": [
    {
     "name": "stdout",
     "output_type": "stream",
     "text": [
      "Band name generator!\n",
      "Your band name coud be: Floripa Dunga\n"
     ]
    }
   ],
   "source": [
    "print(\"Band name generator!\")\n",
    "city = input(\"Which city did you grow up in?\")\n",
    "pet = input(\"What is the name of a pet?\")\n",
    "print(\"Your band name coud be: \" + city + \" \" + pet)"
   ]
  }
 ],
 "metadata": {
  "kernelspec": {
   "display_name": "Python 3",
   "language": "python",
   "name": "python3"
  },
  "language_info": {
   "codemirror_mode": {
    "name": "ipython",
    "version": 3
   },
   "file_extension": ".py",
   "mimetype": "text/x-python",
   "name": "python",
   "nbconvert_exporter": "python",
   "pygments_lexer": "ipython3",
   "version": "3.13.2"
  }
 },
 "nbformat": 4,
 "nbformat_minor": 2
}
