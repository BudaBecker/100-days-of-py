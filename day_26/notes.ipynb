{
 "cells": [
  {
   "cell_type": "markdown",
   "metadata": {},
   "source": [
    "# List Comprehension"
   ]
  },
  {
   "cell_type": "markdown",
   "metadata": {},
   "source": [
    " - **lambda**: This is the keyword that indicates the creation of a lambda function.\n",
    " - **arguments**: This is a list of one or more arguments that the lambda function can receive. The arguments are separated by commas, just like in a regular function defined with def. A lambda function can also have no arguments.\n",
    " - **colon(:)**: The colon character separates the arguments from the expression.\n",
    " - **expression**: This is a single expression that will be evaluated and returned by the lambda function. Important: A lambda function can only contain a single expression. It cannot contain multiple statements, loops (for, while), complex conditionals (if-elif-else), or commands like print or return (the return is implicit in the evaluation of the expression).\n",
    " - **map()**: Applies a function to each item of an iterable."
   ]
  },
  {
   "cell_type": "code",
   "execution_count": 14,
   "metadata": {},
   "outputs": [
    {
     "name": "stdout",
     "output_type": "stream",
     "text": [
      "[1, 4, 9, 16, 25, 36, 49, 64]\n",
      "[1, 2, 9, 4, 25, 6, 49, 8]\n"
     ]
    }
   ],
   "source": [
    "list_1 = [1, 2, 3, 4, 5, 6, 7, 8]\n",
    "list_sqr = list(map(lambda x: x**2, list_1))\n",
    "print(list_sqr)\n",
    "\n",
    "list_lambda = list(map(lambda number: number**2 if number%2 != 0 else number, list_1))\n",
    "print(list_lambda)"
   ]
  },
  {
   "cell_type": "markdown",
   "metadata": {},
   "source": [
    "new_list = [expression **for** item **in** iterable **if** condition]\n",
    "\n",
    "- **new_list**: This is the name of the new list that will be created.\n",
    " - **expression**: This is the operation or transformation that will be applied to each item in the iterable. The result of this expression will be added to the new_list.\n",
    " - **for item in iterable**: This part iterates through each item in the iterable (e.g., a list, range, or tuple). It's similar to the beginning of a for loop.\n",
    " - **if condition (optional)**: This is an optional filter. If the condition evaluates to True for a particular item, then the expression is evaluated and added to the new_list. If the condition is False, the item is skipped."
   ]
  },
  {
   "cell_type": "code",
   "execution_count": 16,
   "metadata": {},
   "outputs": [
    {
     "name": "stdout",
     "output_type": "stream",
     "text": [
      "[1, 4, 9, 16, 25, 36, 49, 64]\n",
      "[1, 2, 9, 4, 25, 6, 49, 8]\n"
     ]
    }
   ],
   "source": [
    "list_sqr = [number**2 for number in list_1]\n",
    "print(list_sqr)\n",
    "\n",
    "list_comp = [(number**2 if number % 2 != 0 else number) for (number) in (list_1)]\n",
    "print(list_comp)"
   ]
  },
  {
   "cell_type": "code",
   "execution_count": 28,
   "metadata": {},
   "outputs": [
    {
     "name": "stdout",
     "output_type": "stream",
     "text": [
      "[2, 4, 6, 8]\n",
      "[2, 4, 6, 8]\n",
      "['CAROLINE', 'ELEANOR', 'FREDDIE']\n"
     ]
    }
   ],
   "source": [
    "double_list = [x*2 for x in range(1,5)]\n",
    "print(double_list)\n",
    "\n",
    "double_list = list(map(lambda x: x*2, range(1,5)))\n",
    "print(double_list)\n",
    "\n",
    "names = ['Alex', 'Beth', 'Caroline', 'Dave', 'Eleanor', 'Freddie']\n",
    "caps_big_names = [name.upper() for name in names if len(name) > 5]\n",
    "print(caps_big_names)"
   ]
  },
  {
   "cell_type": "markdown",
   "metadata": {},
   "source": [
    "# Dictionary Comprehension\n",
    "\n",
    "new_dict = {key: value **for** item **in** iterable **if** condition}\n",
    "\n",
    " - **{}**: These curly braces signify that you are creating a dictionary.\n",
    "\n",
    " - **key**: value: This defines the key-value pair that will be added to the new dictionary for each item in the iterable. You need to specify how the key and value are derived from the item.\n",
    "\n",
    " - **for item in iterable**: This is the standard for loop iteration over an iterable (e.g., a list, string, range).\n",
    "\n",
    " - **if condition**: You can also include an optional if condition to filter the items from the iterable:"
   ]
  },
  {
   "cell_type": "code",
   "execution_count": 6,
   "metadata": {},
   "outputs": [
    {
     "name": "stdout",
     "output_type": "stream",
     "text": [
      "{'Alex': 55, 'Beth': 65, 'Caroline': 69, 'Dave': 13, 'Eleanor': 68, 'Freddie': 83}\n",
      "{'Beth': 65, 'Caroline': 69, 'Eleanor': 68, 'Freddie': 83}\n"
     ]
    }
   ],
   "source": [
    "from random import randint\n",
    "names = ['Alex', 'Beth', 'Caroline', 'Dave', 'Eleanor', 'Freddie']\n",
    "students_scores = {key: randint(0,100) for key in names}\n",
    "print(students_scores)\n",
    "\n",
    "passed_students = {key: value for (key, value) in students_scores.items() if value >= 60}\n",
    "print(passed_students)"
   ]
  }
 ],
 "metadata": {
  "kernelspec": {
   "display_name": "Python 3",
   "language": "python",
   "name": "python3"
  },
  "language_info": {
   "codemirror_mode": {
    "name": "ipython",
    "version": 3
   },
   "file_extension": ".py",
   "mimetype": "text/x-python",
   "name": "python",
   "nbconvert_exporter": "python",
   "pygments_lexer": "ipython3",
   "version": "3.13.2"
  }
 },
 "nbformat": 4,
 "nbformat_minor": 2
}
