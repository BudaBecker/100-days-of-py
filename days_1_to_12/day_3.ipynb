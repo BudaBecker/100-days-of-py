{
 "cells": [
  {
   "cell_type": "markdown",
   "metadata": {},
   "source": [
    "#Day 3:\n",
    "If, Else, Elif"
   ]
  },
  {
   "cell_type": "code",
   "execution_count": 3,
   "metadata": {},
   "outputs": [
    {
     "name": "stdout",
     "output_type": "stream",
     "text": [
      "welcome to the rollercoaster!\n",
      "you cant be here! go home!\n"
     ]
    }
   ],
   "source": [
    "print(\"welcome to the rollercoaster!\")\n",
    "height = int(input(\"what is your height in cm?\"))\n",
    "if height > 120:\n",
    "    print(\"Have fun! :)\")\n",
    "elif height == 120:\n",
    "    print(\"Almost didnt make it :)\\nHave fun!\")\n",
    "else:\n",
    "    print(\"you cant be here! go home!\")\n",
    "    "
   ]
  },
  {
   "cell_type": "code",
   "execution_count": 8,
   "metadata": {},
   "outputs": [
    {
     "name": "stdout",
     "output_type": "stream",
     "text": [
      "2\n"
     ]
    }
   ],
   "source": [
    "#Modulo operator (remainder)\n",
    "\n",
    "print(10 % 8)\n",
    "\n"
   ]
  },
  {
   "cell_type": "code",
   "execution_count": null,
   "metadata": {},
   "outputs": [
    {
     "name": "stdout",
     "output_type": "stream",
     "text": [
      "Even\n"
     ]
    }
   ],
   "source": [
    "#Odd or Even?\n",
    "numb = int(input(\"Type number: \"))\n",
    "if numb % 2 == 0:\n",
    "    print(\"Even\")\n",
    "else:\n",
    "    print(\"Odd\")"
   ]
  },
  {
   "cell_type": "markdown",
   "metadata": {},
   "source": [
    "#Python Pizza Challange:\n",
    "Congratulations, you've got a job at Python Pizza! Your first job is to build an automatic pizza order program.\n",
    "Based on a user's order, work out their final bill. Use the input() function to get a user's preferences and then add up the total for their order and tell them how much they have to pay.\n",
    "\n",
    "Small pizza (S): $15\n",
    "Medium pizza (M): $20\n",
    "Large pizza (L): $25\n",
    "\n",
    "Add pepperoni for small pizza (Y or N): +$2\n",
    "Add pepperoni for medium or large pizza (Y or N): +$3\n",
    "Add extra cheese for any size of pizza (Y or N): +$1"
   ]
  },
  {
   "cell_type": "code",
   "execution_count": 16,
   "metadata": {},
   "outputs": [
    {
     "name": "stdout",
     "output_type": "stream",
     "text": [
      "Welcome to Python Pizza Delivery!\n",
      "Your total amount is: 18\n"
     ]
    }
   ],
   "source": [
    "print(\"Welcome to Python Pizza Delivery!\")\n",
    "size = input(\"what pizza size do you want? Small (S), Medium (M) or Large (L)? \").lower()\n",
    "bill = 0\n",
    "if size == \"s\":\n",
    "    bill += 15\n",
    "elif size == \"m\":\n",
    "    bill += 20\n",
    "else:\n",
    "    bill += \"25\"\n",
    "\n",
    "pepperoni = input(\"would you like pepperoni? (Y or N)\").lower()\n",
    "if pepperoni == \"y\":\n",
    "    if size == \"s\":\n",
    "        bill += 2\n",
    "    else:\n",
    "        bill += 3\n",
    "\n",
    "cheese = input(\"would you like extra cheese? (Y or N)\").lower()\n",
    "if cheese == \"y\":\n",
    "    bill += 1\n",
    "\n",
    "print(f\"Your total amount is: {bill}\")"
   ]
  }
 ],
 "metadata": {
  "kernelspec": {
   "display_name": "Python 3",
   "language": "python",
   "name": "python3"
  },
  "language_info": {
   "codemirror_mode": {
    "name": "ipython",
    "version": 3
   },
   "file_extension": ".py",
   "mimetype": "text/x-python",
   "name": "python",
   "nbconvert_exporter": "python",
   "pygments_lexer": "ipython3",
   "version": "3.13.2"
  }
 },
 "nbformat": 4,
 "nbformat_minor": 2
}
